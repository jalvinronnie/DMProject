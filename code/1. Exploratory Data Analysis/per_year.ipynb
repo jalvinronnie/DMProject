{
 "cells": [
  {
   "cell_type": "code",
   "execution_count": 1,
   "metadata": {},
   "outputs": [],
   "source": [
    "import pandas as pd\n",
    "import numpy as np\n",
    "pd.plotting.register_matplotlib_converters()\n",
    "import matplotlib.pyplot as plt\n",
    "%matplotlib inline\n",
    "import seaborn as sns"
   ]
  },
  {
   "cell_type": "markdown",
   "metadata": {},
   "source": [
    "Reading data from \"merged.xlsx\" from \"data\""
   ]
  },
  {
   "cell_type": "code",
   "execution_count": 2,
   "metadata": {},
   "outputs": [
    {
     "data": {
      "text/html": [
       "<div>\n",
       "<style scoped>\n",
       "    .dataframe tbody tr th:only-of-type {\n",
       "        vertical-align: middle;\n",
       "    }\n",
       "\n",
       "    .dataframe tbody tr th {\n",
       "        vertical-align: top;\n",
       "    }\n",
       "\n",
       "    .dataframe thead th {\n",
       "        text-align: right;\n",
       "    }\n",
       "</style>\n",
       "<table border=\"1\" class=\"dataframe\">\n",
       "  <thead>\n",
       "    <tr style=\"text-align: right;\">\n",
       "      <th></th>\n",
       "      <th>STATE/UT</th>\n",
       "      <th>Year</th>\n",
       "      <th>CAUSE</th>\n",
       "      <th>Male</th>\n",
       "      <th>Female</th>\n",
       "      <th>Total</th>\n",
       "    </tr>\n",
       "  </thead>\n",
       "  <tbody>\n",
       "    <tr>\n",
       "      <td>0</td>\n",
       "      <td>A &amp; N ISLANDS</td>\n",
       "      <td>2001</td>\n",
       "      <td>No Education</td>\n",
       "      <td>7</td>\n",
       "      <td>4</td>\n",
       "      <td>11.0</td>\n",
       "    </tr>\n",
       "    <tr>\n",
       "      <td>1</td>\n",
       "      <td>A &amp; N ISLANDS</td>\n",
       "      <td>2001</td>\n",
       "      <td>Primary</td>\n",
       "      <td>20</td>\n",
       "      <td>7</td>\n",
       "      <td>27.0</td>\n",
       "    </tr>\n",
       "    <tr>\n",
       "      <td>2</td>\n",
       "      <td>A &amp; N ISLANDS</td>\n",
       "      <td>2001</td>\n",
       "      <td>Middle</td>\n",
       "      <td>39</td>\n",
       "      <td>33</td>\n",
       "      <td>72.0</td>\n",
       "    </tr>\n",
       "    <tr>\n",
       "      <td>3</td>\n",
       "      <td>A &amp; N ISLANDS</td>\n",
       "      <td>2001</td>\n",
       "      <td>Matriculate/Secondary</td>\n",
       "      <td>10</td>\n",
       "      <td>6</td>\n",
       "      <td>16.0</td>\n",
       "    </tr>\n",
       "    <tr>\n",
       "      <td>4</td>\n",
       "      <td>A &amp; N ISLANDS</td>\n",
       "      <td>2001</td>\n",
       "      <td>Hr. Secondary/Intermediate/Pre-Universit</td>\n",
       "      <td>2</td>\n",
       "      <td>0</td>\n",
       "      <td>2.0</td>\n",
       "    </tr>\n",
       "    <tr>\n",
       "      <td>...</td>\n",
       "      <td>...</td>\n",
       "      <td>...</td>\n",
       "      <td>...</td>\n",
       "      <td>...</td>\n",
       "      <td>...</td>\n",
       "      <td>...</td>\n",
       "    </tr>\n",
       "    <tr>\n",
       "      <td>19603</td>\n",
       "      <td>WEST BENGAL</td>\n",
       "      <td>2012</td>\n",
       "      <td>Unemployment</td>\n",
       "      <td>0</td>\n",
       "      <td>0</td>\n",
       "      <td>0.0</td>\n",
       "    </tr>\n",
       "    <tr>\n",
       "      <td>19604</td>\n",
       "      <td>WEST BENGAL</td>\n",
       "      <td>2012</td>\n",
       "      <td>Causes Not known</td>\n",
       "      <td>0</td>\n",
       "      <td>0</td>\n",
       "      <td>0.0</td>\n",
       "    </tr>\n",
       "    <tr>\n",
       "      <td>19605</td>\n",
       "      <td>WEST BENGAL</td>\n",
       "      <td>2012</td>\n",
       "      <td>Other Causes (Please Specity)</td>\n",
       "      <td>0</td>\n",
       "      <td>0</td>\n",
       "      <td>0.0</td>\n",
       "    </tr>\n",
       "    <tr>\n",
       "      <td>19606</td>\n",
       "      <td>WEST BENGAL</td>\n",
       "      <td>2012</td>\n",
       "      <td>Total</td>\n",
       "      <td>0</td>\n",
       "      <td>0</td>\n",
       "      <td>0.0</td>\n",
       "    </tr>\n",
       "    <tr>\n",
       "      <td>19607</td>\n",
       "      <td>WEST BENGAL</td>\n",
       "      <td>2012</td>\n",
       "      <td>Total Illness</td>\n",
       "      <td>0</td>\n",
       "      <td>0</td>\n",
       "      <td>0.0</td>\n",
       "    </tr>\n",
       "  </tbody>\n",
       "</table>\n",
       "<p>19608 rows × 6 columns</p>\n",
       "</div>"
      ],
      "text/plain": [
       "            STATE/UT  Year                                     CAUSE  Male  \\\n",
       "0      A & N ISLANDS  2001                              No Education     7   \n",
       "1      A & N ISLANDS  2001                                   Primary    20   \n",
       "2      A & N ISLANDS  2001                                    Middle    39   \n",
       "3      A & N ISLANDS  2001                     Matriculate/Secondary    10   \n",
       "4      A & N ISLANDS  2001  Hr. Secondary/Intermediate/Pre-Universit     2   \n",
       "...              ...   ...                                       ...   ...   \n",
       "19603    WEST BENGAL  2012                              Unemployment     0   \n",
       "19604    WEST BENGAL  2012                          Causes Not known     0   \n",
       "19605    WEST BENGAL  2012             Other Causes (Please Specity)     0   \n",
       "19606    WEST BENGAL  2012                                     Total     0   \n",
       "19607    WEST BENGAL  2012                             Total Illness     0   \n",
       "\n",
       "       Female  Total  \n",
       "0           4   11.0  \n",
       "1           7   27.0  \n",
       "2          33   72.0  \n",
       "3           6   16.0  \n",
       "4           0    2.0  \n",
       "...       ...    ...  \n",
       "19603       0    0.0  \n",
       "19604       0    0.0  \n",
       "19605       0    0.0  \n",
       "19606       0    0.0  \n",
       "19607       0    0.0  \n",
       "\n",
       "[19608 rows x 6 columns]"
      ]
     },
     "execution_count": 2,
     "metadata": {},
     "output_type": "execute_result"
    }
   ],
   "source": [
    "data=pd.read_excel('~/DMFinalTerm_TeamID_05/data/merged.xlsx')\n",
    "data"
   ]
  },
  {
   "cell_type": "code",
   "execution_count": 3,
   "metadata": {},
   "outputs": [],
   "source": [
    "d1 = data[data['CAUSE'].isin(['No Education','Primary','Matriculate/Secondary','Hr. Secondary/Intermediate/Pre-Universit',' Diploma','Graduate','Post Graduate and Above'])]"
   ]
  },
  {
   "cell_type": "code",
   "execution_count": 4,
   "metadata": {},
   "outputs": [
    {
     "data": {
      "text/html": [
       "<div>\n",
       "<style scoped>\n",
       "    .dataframe tbody tr th:only-of-type {\n",
       "        vertical-align: middle;\n",
       "    }\n",
       "\n",
       "    .dataframe tbody tr th {\n",
       "        vertical-align: top;\n",
       "    }\n",
       "\n",
       "    .dataframe thead th {\n",
       "        text-align: right;\n",
       "    }\n",
       "</style>\n",
       "<table border=\"1\" class=\"dataframe\">\n",
       "  <thead>\n",
       "    <tr style=\"text-align: right;\">\n",
       "      <th></th>\n",
       "      <th>STATE/UT</th>\n",
       "      <th>Year</th>\n",
       "      <th>CAUSE</th>\n",
       "      <th>Male</th>\n",
       "      <th>Female</th>\n",
       "      <th>Total</th>\n",
       "    </tr>\n",
       "  </thead>\n",
       "  <tbody>\n",
       "    <tr>\n",
       "      <td>0</td>\n",
       "      <td>A &amp; N ISLANDS</td>\n",
       "      <td>2001</td>\n",
       "      <td>No Education</td>\n",
       "      <td>7</td>\n",
       "      <td>4</td>\n",
       "      <td>11.0</td>\n",
       "    </tr>\n",
       "    <tr>\n",
       "      <td>1</td>\n",
       "      <td>A &amp; N ISLANDS</td>\n",
       "      <td>2001</td>\n",
       "      <td>Primary</td>\n",
       "      <td>20</td>\n",
       "      <td>7</td>\n",
       "      <td>27.0</td>\n",
       "    </tr>\n",
       "    <tr>\n",
       "      <td>3</td>\n",
       "      <td>A &amp; N ISLANDS</td>\n",
       "      <td>2001</td>\n",
       "      <td>Matriculate/Secondary</td>\n",
       "      <td>10</td>\n",
       "      <td>6</td>\n",
       "      <td>16.0</td>\n",
       "    </tr>\n",
       "    <tr>\n",
       "      <td>4</td>\n",
       "      <td>A &amp; N ISLANDS</td>\n",
       "      <td>2001</td>\n",
       "      <td>Hr. Secondary/Intermediate/Pre-Universit</td>\n",
       "      <td>2</td>\n",
       "      <td>0</td>\n",
       "      <td>2.0</td>\n",
       "    </tr>\n",
       "    <tr>\n",
       "      <td>6</td>\n",
       "      <td>A &amp; N ISLANDS</td>\n",
       "      <td>2001</td>\n",
       "      <td>Graduate</td>\n",
       "      <td>1</td>\n",
       "      <td>0</td>\n",
       "      <td>1.0</td>\n",
       "    </tr>\n",
       "    <tr>\n",
       "      <td>...</td>\n",
       "      <td>...</td>\n",
       "      <td>...</td>\n",
       "      <td>...</td>\n",
       "      <td>...</td>\n",
       "      <td>...</td>\n",
       "      <td>...</td>\n",
       "    </tr>\n",
       "    <tr>\n",
       "      <td>19192</td>\n",
       "      <td>WEST BENGAL</td>\n",
       "      <td>2012</td>\n",
       "      <td>Primary</td>\n",
       "      <td>2983</td>\n",
       "      <td>2184</td>\n",
       "      <td>5167.0</td>\n",
       "    </tr>\n",
       "    <tr>\n",
       "      <td>19194</td>\n",
       "      <td>WEST BENGAL</td>\n",
       "      <td>2012</td>\n",
       "      <td>Matriculate/Secondary</td>\n",
       "      <td>1260</td>\n",
       "      <td>734</td>\n",
       "      <td>1994.0</td>\n",
       "    </tr>\n",
       "    <tr>\n",
       "      <td>19195</td>\n",
       "      <td>WEST BENGAL</td>\n",
       "      <td>2012</td>\n",
       "      <td>Hr. Secondary/Intermediate/Pre-Universit</td>\n",
       "      <td>538</td>\n",
       "      <td>359</td>\n",
       "      <td>897.0</td>\n",
       "    </tr>\n",
       "    <tr>\n",
       "      <td>19197</td>\n",
       "      <td>WEST BENGAL</td>\n",
       "      <td>2012</td>\n",
       "      <td>Graduate</td>\n",
       "      <td>242</td>\n",
       "      <td>171</td>\n",
       "      <td>413.0</td>\n",
       "    </tr>\n",
       "    <tr>\n",
       "      <td>19198</td>\n",
       "      <td>WEST BENGAL</td>\n",
       "      <td>2012</td>\n",
       "      <td>Post Graduate and Above</td>\n",
       "      <td>68</td>\n",
       "      <td>27</td>\n",
       "      <td>95.0</td>\n",
       "    </tr>\n",
       "  </tbody>\n",
       "</table>\n",
       "<p>2736 rows × 6 columns</p>\n",
       "</div>"
      ],
      "text/plain": [
       "            STATE/UT  Year                                     CAUSE  Male  \\\n",
       "0      A & N ISLANDS  2001                              No Education     7   \n",
       "1      A & N ISLANDS  2001                                   Primary    20   \n",
       "3      A & N ISLANDS  2001                     Matriculate/Secondary    10   \n",
       "4      A & N ISLANDS  2001  Hr. Secondary/Intermediate/Pre-Universit     2   \n",
       "6      A & N ISLANDS  2001                                  Graduate     1   \n",
       "...              ...   ...                                       ...   ...   \n",
       "19192    WEST BENGAL  2012                                   Primary  2983   \n",
       "19194    WEST BENGAL  2012                     Matriculate/Secondary  1260   \n",
       "19195    WEST BENGAL  2012  Hr. Secondary/Intermediate/Pre-Universit   538   \n",
       "19197    WEST BENGAL  2012                                  Graduate   242   \n",
       "19198    WEST BENGAL  2012                   Post Graduate and Above    68   \n",
       "\n",
       "       Female   Total  \n",
       "0           4    11.0  \n",
       "1           7    27.0  \n",
       "3           6    16.0  \n",
       "4           0     2.0  \n",
       "6           0     1.0  \n",
       "...       ...     ...  \n",
       "19192    2184  5167.0  \n",
       "19194     734  1994.0  \n",
       "19195     359   897.0  \n",
       "19197     171   413.0  \n",
       "19198      27    95.0  \n",
       "\n",
       "[2736 rows x 6 columns]"
      ]
     },
     "execution_count": 4,
     "metadata": {},
     "output_type": "execute_result"
    }
   ],
   "source": [
    "d1"
   ]
  },
  {
   "cell_type": "markdown",
   "metadata": {},
   "source": [
    "Grouping by \"Year\"."
   ]
  },
  {
   "cell_type": "code",
   "execution_count": 5,
   "metadata": {},
   "outputs": [],
   "source": [
    "d2=d1.drop(['STATE/UT','CAUSE'],axis=1)\n",
    "d1=d2.groupby(['Year']).sum()"
   ]
  },
  {
   "cell_type": "code",
   "execution_count": 6,
   "metadata": {},
   "outputs": [
    {
     "data": {
      "text/html": [
       "<div>\n",
       "<style scoped>\n",
       "    .dataframe tbody tr th:only-of-type {\n",
       "        vertical-align: middle;\n",
       "    }\n",
       "\n",
       "    .dataframe tbody tr th {\n",
       "        vertical-align: top;\n",
       "    }\n",
       "\n",
       "    .dataframe thead th {\n",
       "        text-align: right;\n",
       "    }\n",
       "</style>\n",
       "<table border=\"1\" class=\"dataframe\">\n",
       "  <thead>\n",
       "    <tr style=\"text-align: right;\">\n",
       "      <th></th>\n",
       "      <th>Male</th>\n",
       "      <th>Female</th>\n",
       "      <th>Total</th>\n",
       "    </tr>\n",
       "    <tr>\n",
       "      <th>Year</th>\n",
       "      <th></th>\n",
       "      <th></th>\n",
       "      <th></th>\n",
       "    </tr>\n",
       "  </thead>\n",
       "  <tbody>\n",
       "    <tr>\n",
       "      <td>2001</td>\n",
       "      <td>148926</td>\n",
       "      <td>98265</td>\n",
       "      <td>247191.0</td>\n",
       "    </tr>\n",
       "    <tr>\n",
       "      <td>2002</td>\n",
       "      <td>155064</td>\n",
       "      <td>96453</td>\n",
       "      <td>251517.0</td>\n",
       "    </tr>\n",
       "    <tr>\n",
       "      <td>2003</td>\n",
       "      <td>159345</td>\n",
       "      <td>93981</td>\n",
       "      <td>253326.0</td>\n",
       "    </tr>\n",
       "    <tr>\n",
       "      <td>2004</td>\n",
       "      <td>163677</td>\n",
       "      <td>94719</td>\n",
       "      <td>258396.0</td>\n",
       "    </tr>\n",
       "    <tr>\n",
       "      <td>2005</td>\n",
       "      <td>161682</td>\n",
       "      <td>94917</td>\n",
       "      <td>256599.0</td>\n",
       "    </tr>\n",
       "    <tr>\n",
       "      <td>2006</td>\n",
       "      <td>167370</td>\n",
       "      <td>96924</td>\n",
       "      <td>264294.0</td>\n",
       "    </tr>\n",
       "    <tr>\n",
       "      <td>2007</td>\n",
       "      <td>176334</td>\n",
       "      <td>99261</td>\n",
       "      <td>275595.0</td>\n",
       "    </tr>\n",
       "    <tr>\n",
       "      <td>2008</td>\n",
       "      <td>180825</td>\n",
       "      <td>102204</td>\n",
       "      <td>283029.0</td>\n",
       "    </tr>\n",
       "    <tr>\n",
       "      <td>2009</td>\n",
       "      <td>182877</td>\n",
       "      <td>104661</td>\n",
       "      <td>287538.0</td>\n",
       "    </tr>\n",
       "    <tr>\n",
       "      <td>2010</td>\n",
       "      <td>197682</td>\n",
       "      <td>110397</td>\n",
       "      <td>308079.0</td>\n",
       "    </tr>\n",
       "    <tr>\n",
       "      <td>2011</td>\n",
       "      <td>196149</td>\n",
       "      <td>108117</td>\n",
       "      <td>304266.0</td>\n",
       "    </tr>\n",
       "    <tr>\n",
       "      <td>2012</td>\n",
       "      <td>198942</td>\n",
       "      <td>107649</td>\n",
       "      <td>306591.0</td>\n",
       "    </tr>\n",
       "  </tbody>\n",
       "</table>\n",
       "</div>"
      ],
      "text/plain": [
       "        Male  Female     Total\n",
       "Year                          \n",
       "2001  148926   98265  247191.0\n",
       "2002  155064   96453  251517.0\n",
       "2003  159345   93981  253326.0\n",
       "2004  163677   94719  258396.0\n",
       "2005  161682   94917  256599.0\n",
       "2006  167370   96924  264294.0\n",
       "2007  176334   99261  275595.0\n",
       "2008  180825  102204  283029.0\n",
       "2009  182877  104661  287538.0\n",
       "2010  197682  110397  308079.0\n",
       "2011  196149  108117  304266.0\n",
       "2012  198942  107649  306591.0"
      ]
     },
     "execution_count": 6,
     "metadata": {},
     "output_type": "execute_result"
    }
   ],
   "source": [
    "d1"
   ]
  },
  {
   "cell_type": "code",
   "execution_count": 7,
   "metadata": {},
   "outputs": [
    {
     "data": {
      "text/plain": [
       "174072.75"
      ]
     },
     "execution_count": 7,
     "metadata": {},
     "output_type": "execute_result"
    }
   ],
   "source": [
    "mean = np.average(d1['Male'])\n",
    "mean"
   ]
  },
  {
   "cell_type": "code",
   "execution_count": 8,
   "metadata": {},
   "outputs": [
    {
     "data": {
      "text/plain": [
       "16604.681664744436"
      ]
     },
     "execution_count": 8,
     "metadata": {},
     "output_type": "execute_result"
    }
   ],
   "source": [
    "std = np.std(d1['Male'])\n",
    "std"
   ]
  },
  {
   "cell_type": "markdown",
   "metadata": {},
   "source": [
    "Plotting scatter matrix between \"Male\",\"Female\" and \"Total\"."
   ]
  },
  {
   "cell_type": "code",
   "execution_count": 9,
   "metadata": {},
   "outputs": [
    {
     "data": {
      "image/png": "[encoded data removed]",
      "text/plain": [
       "<Figure size 432x432 with 9 Axes>"
      ]
     },
     "metadata": {
      "needs_background": "light"
     },
     "output_type": "display_data"
    }
   ],
   "source": [
    "d1.corr()\n",
    "pd.plotting.scatter_matrix(d1,figsize=(6,6))\n",
    "plt.show()\n"
   ]
  },
  {
   "cell_type": "code",
   "execution_count": 10,
   "metadata": {},
   "outputs": [
    {
     "data": {
      "text/plain": [
       "<Figure size 864x864 with 0 Axes>"
      ]
     },
     "execution_count": 10,
     "metadata": {},
     "output_type": "execute_result"
    },
    {
     "data": {
      "text/plain": [
       "<Figure size 864x864 with 0 Axes>"
      ]
     },
     "metadata": {},
     "output_type": "display_data"
    }
   ],
   "source": [
    "plt.figure(figsize=(12,12))"
   ]
  },
  {
   "cell_type": "code",
   "execution_count": 11,
   "metadata": {},
   "outputs": [
    {
     "data": {
      "text/plain": [
       "<matplotlib.axes._subplots.AxesSubplot at 0x2a63e5a9688>"
      ]
     },
     "execution_count": 11,
     "metadata": {},
     "output_type": "execute_result"
    },
    {
     "data": {
      "image/png": "[encoded data removed]",
      "text/plain": [
       "<Figure size 432x288 with 1 Axes>"
      ]
     },
     "metadata": {
      "needs_background": "light"
     },
     "output_type": "display_data"
    }
   ],
   "source": [
    "sns.lineplot(x=d1.index,y=d1['Male'])"
   ]
  },
  {
   "cell_type": "code",
   "execution_count": 12,
   "metadata": {},
   "outputs": [
    {
     "data": {
      "text/plain": [
       "<matplotlib.axes._subplots.AxesSubplot at 0x2a63e209348>"
      ]
     },
     "execution_count": 12,
     "metadata": {},
     "output_type": "execute_result"
    },
    {
     "data": {
      "image/png": "[encoded data removed]",
      "text/plain": [
       "<Figure size 432x288 with 1 Axes>"
      ]
     },
     "metadata": {
      "needs_background": "light"
     },
     "output_type": "display_data"
    }
   ],
   "source": [
    "sns.lineplot(x=d1.index,y=d1['Female'])"
   ]
  },
  {
   "cell_type": "code",
   "execution_count": 13,
   "metadata": {},
   "outputs": [
    {
     "data": {
      "text/plain": [
       "<matplotlib.axes._subplots.AxesSubplot at 0x2a63e564348>"
      ]
     },
     "execution_count": 13,
     "metadata": {},
     "output_type": "execute_result"
    },
    {
     "data": {
      "image/png": "[encoded data removed]",
      "text/plain": [
       "<Figure size 432x288 with 1 Axes>"
      ]
     },
     "metadata": {
      "needs_background": "light"
     },
     "output_type": "display_data"
    }
   ],
   "source": [
    "sns.lineplot(x=d1.index,y=d1['Total'])"
   ]
  }
 ],
 "metadata": {
  "kernelspec": {
   "display_name": "Python 3",
   "language": "python",
   "name": "python3"
  },
  "language_info": {
   "codemirror_mode": {
    "name": "ipython",
    "version": 3
   },
   "file_extension": ".py",
   "mimetype": "text/x-python",
   "name": "python",
   "nbconvert_exporter": "python",
   "pygments_lexer": "ipython3",
   "version": "3.7.4"
  }
 },
 "nbformat": 4,
 "nbformat_minor": 2
}
