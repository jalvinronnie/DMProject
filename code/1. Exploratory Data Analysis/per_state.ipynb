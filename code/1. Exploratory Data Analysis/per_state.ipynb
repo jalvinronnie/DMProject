{
 "cells": [
  {
   "cell_type": "code",
   "execution_count": 2,
   "metadata": {},
   "outputs": [],
   "source": [
    "import pandas as pd\n",
    "import numpy as np\n",
    "pd.plotting.register_matplotlib_converters()\n",
    "import matplotlib.pyplot as plt\n",
    "%matplotlib inline\n",
    "import seaborn as sns\n",
    "import math"
   ]
  },
  {
   "cell_type": "markdown",
   "metadata": {},
   "source": [
    "\"cal_corr\" is user defined function to calculate correlation coefficient."
   ]
  },
  {
   "cell_type": "code",
   "execution_count": 3,
   "metadata": {},
   "outputs": [],
   "source": [
    "def cal_corr (p,q,data):\n",
    "    x=[]\n",
    "    y=[]\n",
    "    for i in data[p]:\n",
    "     x.append(i)\n",
    "    for i in data[q]:\n",
    "     y.append(i)\n",
    "    x = x - np.mean(x)\n",
    "    y = y - np.mean(y)\n",
    "    return np.dot(x, y) / math.sqrt(np.dot(x, x) * np.dot(y, y))"
   ]
  },
  {
   "cell_type": "code",
   "execution_count": 4,
   "metadata": {},
   "outputs": [],
   "source": [
    "data=pd.read_excel('~/DMFinalTerm_TeamID_05/data/merged.xlsx')"
   ]
  },
  {
   "cell_type": "code",
   "execution_count": 5,
   "metadata": {},
   "outputs": [],
   "source": [
    "d1 = data[data['CAUSE'].isin(['No Education','Primary','Matriculate/Secondary','Hr. Secondary/Intermediate/Pre-Universit',' Diploma','Graduate','Post Graduate and Above'])]"
   ]
  },
  {
   "cell_type": "code",
   "execution_count": 6,
   "metadata": {},
   "outputs": [
    {
     "data": {
      "text/html": [
       "<div>\n",
       "<style scoped>\n",
       "    .dataframe tbody tr th:only-of-type {\n",
       "        vertical-align: middle;\n",
       "    }\n",
       "\n",
       "    .dataframe tbody tr th {\n",
       "        vertical-align: top;\n",
       "    }\n",
       "\n",
       "    .dataframe thead th {\n",
       "        text-align: right;\n",
       "    }\n",
       "</style>\n",
       "<table border=\"1\" class=\"dataframe\">\n",
       "  <thead>\n",
       "    <tr style=\"text-align: right;\">\n",
       "      <th></th>\n",
       "      <th>STATE/UT</th>\n",
       "      <th>Year</th>\n",
       "      <th>CAUSE</th>\n",
       "      <th>Male</th>\n",
       "      <th>Female</th>\n",
       "      <th>Total</th>\n",
       "    </tr>\n",
       "  </thead>\n",
       "  <tbody>\n",
       "    <tr>\n",
       "      <td>0</td>\n",
       "      <td>A &amp; N ISLANDS</td>\n",
       "      <td>2001</td>\n",
       "      <td>No Education</td>\n",
       "      <td>7</td>\n",
       "      <td>4</td>\n",
       "      <td>11.0</td>\n",
       "    </tr>\n",
       "    <tr>\n",
       "      <td>1</td>\n",
       "      <td>A &amp; N ISLANDS</td>\n",
       "      <td>2001</td>\n",
       "      <td>Primary</td>\n",
       "      <td>20</td>\n",
       "      <td>7</td>\n",
       "      <td>27.0</td>\n",
       "    </tr>\n",
       "    <tr>\n",
       "      <td>3</td>\n",
       "      <td>A &amp; N ISLANDS</td>\n",
       "      <td>2001</td>\n",
       "      <td>Matriculate/Secondary</td>\n",
       "      <td>10</td>\n",
       "      <td>6</td>\n",
       "      <td>16.0</td>\n",
       "    </tr>\n",
       "    <tr>\n",
       "      <td>4</td>\n",
       "      <td>A &amp; N ISLANDS</td>\n",
       "      <td>2001</td>\n",
       "      <td>Hr. Secondary/Intermediate/Pre-Universit</td>\n",
       "      <td>2</td>\n",
       "      <td>0</td>\n",
       "      <td>2.0</td>\n",
       "    </tr>\n",
       "    <tr>\n",
       "      <td>6</td>\n",
       "      <td>A &amp; N ISLANDS</td>\n",
       "      <td>2001</td>\n",
       "      <td>Graduate</td>\n",
       "      <td>1</td>\n",
       "      <td>0</td>\n",
       "      <td>1.0</td>\n",
       "    </tr>\n",
       "    <tr>\n",
       "      <td>...</td>\n",
       "      <td>...</td>\n",
       "      <td>...</td>\n",
       "      <td>...</td>\n",
       "      <td>...</td>\n",
       "      <td>...</td>\n",
       "      <td>...</td>\n",
       "    </tr>\n",
       "    <tr>\n",
       "      <td>19192</td>\n",
       "      <td>WEST BENGAL</td>\n",
       "      <td>2012</td>\n",
       "      <td>Primary</td>\n",
       "      <td>2983</td>\n",
       "      <td>2184</td>\n",
       "      <td>5167.0</td>\n",
       "    </tr>\n",
       "    <tr>\n",
       "      <td>19194</td>\n",
       "      <td>WEST BENGAL</td>\n",
       "      <td>2012</td>\n",
       "      <td>Matriculate/Secondary</td>\n",
       "      <td>1260</td>\n",
       "      <td>734</td>\n",
       "      <td>1994.0</td>\n",
       "    </tr>\n",
       "    <tr>\n",
       "      <td>19195</td>\n",
       "      <td>WEST BENGAL</td>\n",
       "      <td>2012</td>\n",
       "      <td>Hr. Secondary/Intermediate/Pre-Universit</td>\n",
       "      <td>538</td>\n",
       "      <td>359</td>\n",
       "      <td>897.0</td>\n",
       "    </tr>\n",
       "    <tr>\n",
       "      <td>19197</td>\n",
       "      <td>WEST BENGAL</td>\n",
       "      <td>2012</td>\n",
       "      <td>Graduate</td>\n",
       "      <td>242</td>\n",
       "      <td>171</td>\n",
       "      <td>413.0</td>\n",
       "    </tr>\n",
       "    <tr>\n",
       "      <td>19198</td>\n",
       "      <td>WEST BENGAL</td>\n",
       "      <td>2012</td>\n",
       "      <td>Post Graduate and Above</td>\n",
       "      <td>68</td>\n",
       "      <td>27</td>\n",
       "      <td>95.0</td>\n",
       "    </tr>\n",
       "  </tbody>\n",
       "</table>\n",
       "<p>2736 rows × 6 columns</p>\n",
       "</div>"
      ],
      "text/plain": [
       "            STATE/UT  Year                                     CAUSE  Male  \\\n",
       "0      A & N ISLANDS  2001                              No Education     7   \n",
       "1      A & N ISLANDS  2001                                   Primary    20   \n",
       "3      A & N ISLANDS  2001                     Matriculate/Secondary    10   \n",
       "4      A & N ISLANDS  2001  Hr. Secondary/Intermediate/Pre-Universit     2   \n",
       "6      A & N ISLANDS  2001                                  Graduate     1   \n",
       "...              ...   ...                                       ...   ...   \n",
       "19192    WEST BENGAL  2012                                   Primary  2983   \n",
       "19194    WEST BENGAL  2012                     Matriculate/Secondary  1260   \n",
       "19195    WEST BENGAL  2012  Hr. Secondary/Intermediate/Pre-Universit   538   \n",
       "19197    WEST BENGAL  2012                                  Graduate   242   \n",
       "19198    WEST BENGAL  2012                   Post Graduate and Above    68   \n",
       "\n",
       "       Female   Total  \n",
       "0           4    11.0  \n",
       "1           7    27.0  \n",
       "3           6    16.0  \n",
       "4           0     2.0  \n",
       "6           0     1.0  \n",
       "...       ...     ...  \n",
       "19192    2184  5167.0  \n",
       "19194     734  1994.0  \n",
       "19195     359   897.0  \n",
       "19197     171   413.0  \n",
       "19198      27    95.0  \n",
       "\n",
       "[2736 rows x 6 columns]"
      ]
     },
     "execution_count": 6,
     "metadata": {},
     "output_type": "execute_result"
    }
   ],
   "source": [
    "d1"
   ]
  },
  {
   "cell_type": "code",
   "execution_count": 7,
   "metadata": {},
   "outputs": [],
   "source": [
    "d2=d1.drop(['Year','CAUSE'],axis=1)\n",
    "d1=d2.groupby(['STATE/UT']).sum()"
   ]
  },
  {
   "cell_type": "code",
   "execution_count": 8,
   "metadata": {},
   "outputs": [
    {
     "data": {
      "text/html": [
       "<div>\n",
       "<style scoped>\n",
       "    .dataframe tbody tr th:only-of-type {\n",
       "        vertical-align: middle;\n",
       "    }\n",
       "\n",
       "    .dataframe tbody tr th {\n",
       "        vertical-align: top;\n",
       "    }\n",
       "\n",
       "    .dataframe thead th {\n",
       "        text-align: right;\n",
       "    }\n",
       "</style>\n",
       "<table border=\"1\" class=\"dataframe\">\n",
       "  <thead>\n",
       "    <tr style=\"text-align: right;\">\n",
       "      <th></th>\n",
       "      <th>Male</th>\n",
       "      <th>Female</th>\n",
       "      <th>Total</th>\n",
       "    </tr>\n",
       "    <tr>\n",
       "      <th>STATE/UT</th>\n",
       "      <th></th>\n",
       "      <th></th>\n",
       "      <th></th>\n",
       "    </tr>\n",
       "  </thead>\n",
       "  <tbody>\n",
       "    <tr>\n",
       "      <td>A &amp; N ISLANDS</td>\n",
       "      <td>628</td>\n",
       "      <td>320</td>\n",
       "      <td>948.0</td>\n",
       "    </tr>\n",
       "    <tr>\n",
       "      <td>ANDHRA PRADESH</td>\n",
       "      <td>83831</td>\n",
       "      <td>43180</td>\n",
       "      <td>127011.0</td>\n",
       "    </tr>\n",
       "    <tr>\n",
       "      <td>ARUNACHAL PRADESH</td>\n",
       "      <td>694</td>\n",
       "      <td>301</td>\n",
       "      <td>995.0</td>\n",
       "    </tr>\n",
       "    <tr>\n",
       "      <td>ASSAM</td>\n",
       "      <td>15824</td>\n",
       "      <td>7453</td>\n",
       "      <td>23277.0</td>\n",
       "    </tr>\n",
       "    <tr>\n",
       "      <td>BIHAR</td>\n",
       "      <td>4119</td>\n",
       "      <td>3265</td>\n",
       "      <td>7384.0</td>\n",
       "    </tr>\n",
       "    <tr>\n",
       "      <td>CHANDIGARH</td>\n",
       "      <td>546</td>\n",
       "      <td>303</td>\n",
       "      <td>849.0</td>\n",
       "    </tr>\n",
       "    <tr>\n",
       "      <td>CHHATTISGARH</td>\n",
       "      <td>30100</td>\n",
       "      <td>14749</td>\n",
       "      <td>44849.0</td>\n",
       "    </tr>\n",
       "    <tr>\n",
       "      <td>D &amp; N HAVELI</td>\n",
       "      <td>347</td>\n",
       "      <td>244</td>\n",
       "      <td>591.0</td>\n",
       "    </tr>\n",
       "    <tr>\n",
       "      <td>DAMAN &amp; DIU</td>\n",
       "      <td>138</td>\n",
       "      <td>65</td>\n",
       "      <td>203.0</td>\n",
       "    </tr>\n",
       "    <tr>\n",
       "      <td>DELHI (UT)</td>\n",
       "      <td>7980</td>\n",
       "      <td>4629</td>\n",
       "      <td>12609.0</td>\n",
       "    </tr>\n",
       "    <tr>\n",
       "      <td>GOA</td>\n",
       "      <td>1702</td>\n",
       "      <td>780</td>\n",
       "      <td>2482.0</td>\n",
       "    </tr>\n",
       "    <tr>\n",
       "      <td>GUJARAT</td>\n",
       "      <td>31912</td>\n",
       "      <td>21765</td>\n",
       "      <td>53677.0</td>\n",
       "    </tr>\n",
       "    <tr>\n",
       "      <td>HARYANA</td>\n",
       "      <td>16633</td>\n",
       "      <td>6097</td>\n",
       "      <td>22730.0</td>\n",
       "    </tr>\n",
       "    <tr>\n",
       "      <td>HIMACHAL PRADESH</td>\n",
       "      <td>2636</td>\n",
       "      <td>1497</td>\n",
       "      <td>4133.0</td>\n",
       "    </tr>\n",
       "    <tr>\n",
       "      <td>JAMMU &amp; KASHMIR</td>\n",
       "      <td>1181</td>\n",
       "      <td>1064</td>\n",
       "      <td>2245.0</td>\n",
       "    </tr>\n",
       "    <tr>\n",
       "      <td>JHARKHAND</td>\n",
       "      <td>5178</td>\n",
       "      <td>2875</td>\n",
       "      <td>8053.0</td>\n",
       "    </tr>\n",
       "    <tr>\n",
       "      <td>KARNATAKA</td>\n",
       "      <td>77660</td>\n",
       "      <td>39280</td>\n",
       "      <td>116940.0</td>\n",
       "    </tr>\n",
       "    <tr>\n",
       "      <td>KERALA</td>\n",
       "      <td>52742</td>\n",
       "      <td>20841</td>\n",
       "      <td>73583.0</td>\n",
       "    </tr>\n",
       "    <tr>\n",
       "      <td>LAKSHADWEEP</td>\n",
       "      <td>4</td>\n",
       "      <td>4</td>\n",
       "      <td>8.0</td>\n",
       "    </tr>\n",
       "    <tr>\n",
       "      <td>MADHYA PRADESH</td>\n",
       "      <td>38389</td>\n",
       "      <td>31627</td>\n",
       "      <td>70016.0</td>\n",
       "    </tr>\n",
       "    <tr>\n",
       "      <td>MAHARASHTRA</td>\n",
       "      <td>88009</td>\n",
       "      <td>43076</td>\n",
       "      <td>131085.0</td>\n",
       "    </tr>\n",
       "    <tr>\n",
       "      <td>MANIPUR</td>\n",
       "      <td>200</td>\n",
       "      <td>90</td>\n",
       "      <td>290.0</td>\n",
       "    </tr>\n",
       "    <tr>\n",
       "      <td>MEGHALAYA</td>\n",
       "      <td>559</td>\n",
       "      <td>224</td>\n",
       "      <td>783.0</td>\n",
       "    </tr>\n",
       "    <tr>\n",
       "      <td>MIZORAM</td>\n",
       "      <td>390</td>\n",
       "      <td>69</td>\n",
       "      <td>459.0</td>\n",
       "    </tr>\n",
       "    <tr>\n",
       "      <td>NAGALAND</td>\n",
       "      <td>174</td>\n",
       "      <td>49</td>\n",
       "      <td>223.0</td>\n",
       "    </tr>\n",
       "    <tr>\n",
       "      <td>ODISHA</td>\n",
       "      <td>24415</td>\n",
       "      <td>17408</td>\n",
       "      <td>41823.0</td>\n",
       "    </tr>\n",
       "    <tr>\n",
       "      <td>PUDUCHERRY</td>\n",
       "      <td>2235</td>\n",
       "      <td>1391</td>\n",
       "      <td>3626.0</td>\n",
       "    </tr>\n",
       "    <tr>\n",
       "      <td>PUNJAB</td>\n",
       "      <td>5936</td>\n",
       "      <td>1806</td>\n",
       "      <td>7742.0</td>\n",
       "    </tr>\n",
       "    <tr>\n",
       "      <td>RAJASTHAN</td>\n",
       "      <td>27254</td>\n",
       "      <td>13813</td>\n",
       "      <td>41067.0</td>\n",
       "    </tr>\n",
       "    <tr>\n",
       "      <td>SIKKIM</td>\n",
       "      <td>1035</td>\n",
       "      <td>537</td>\n",
       "      <td>1572.0</td>\n",
       "    </tr>\n",
       "    <tr>\n",
       "      <td>TAMIL NADU</td>\n",
       "      <td>74645</td>\n",
       "      <td>44640</td>\n",
       "      <td>119285.0</td>\n",
       "    </tr>\n",
       "    <tr>\n",
       "      <td>TOTAL (ALL INDIA)</td>\n",
       "      <td>696291</td>\n",
       "      <td>402516</td>\n",
       "      <td>1098807.0</td>\n",
       "    </tr>\n",
       "    <tr>\n",
       "      <td>TOTAL (STATES)</td>\n",
       "      <td>684413</td>\n",
       "      <td>395560</td>\n",
       "      <td>1079973.0</td>\n",
       "    </tr>\n",
       "    <tr>\n",
       "      <td>TOTAL (UTs)</td>\n",
       "      <td>11878</td>\n",
       "      <td>6956</td>\n",
       "      <td>18834.0</td>\n",
       "    </tr>\n",
       "    <tr>\n",
       "      <td>TRIPURA</td>\n",
       "      <td>3444</td>\n",
       "      <td>2529</td>\n",
       "      <td>5973.0</td>\n",
       "    </tr>\n",
       "    <tr>\n",
       "      <td>UTTAR PRADESH</td>\n",
       "      <td>19796</td>\n",
       "      <td>17301</td>\n",
       "      <td>37097.0</td>\n",
       "    </tr>\n",
       "    <tr>\n",
       "      <td>UTTARAKHAND</td>\n",
       "      <td>1736</td>\n",
       "      <td>1207</td>\n",
       "      <td>2943.0</td>\n",
       "    </tr>\n",
       "    <tr>\n",
       "      <td>WEST BENGAL</td>\n",
       "      <td>74219</td>\n",
       "      <td>58037</td>\n",
       "      <td>132256.0</td>\n",
       "    </tr>\n",
       "  </tbody>\n",
       "</table>\n",
       "</div>"
      ],
      "text/plain": [
       "                     Male  Female      Total\n",
       "STATE/UT                                    \n",
       "A & N ISLANDS         628     320      948.0\n",
       "ANDHRA PRADESH      83831   43180   127011.0\n",
       "ARUNACHAL PRADESH     694     301      995.0\n",
       "ASSAM               15824    7453    23277.0\n",
       "BIHAR                4119    3265     7384.0\n",
       "CHANDIGARH            546     303      849.0\n",
       "CHHATTISGARH        30100   14749    44849.0\n",
       "D & N HAVELI          347     244      591.0\n",
       "DAMAN & DIU           138      65      203.0\n",
       "DELHI (UT)           7980    4629    12609.0\n",
       "GOA                  1702     780     2482.0\n",
       "GUJARAT             31912   21765    53677.0\n",
       "HARYANA             16633    6097    22730.0\n",
       "HIMACHAL PRADESH     2636    1497     4133.0\n",
       "JAMMU & KASHMIR      1181    1064     2245.0\n",
       "JHARKHAND            5178    2875     8053.0\n",
       "KARNATAKA           77660   39280   116940.0\n",
       "KERALA              52742   20841    73583.0\n",
       "LAKSHADWEEP             4       4        8.0\n",
       "MADHYA PRADESH      38389   31627    70016.0\n",
       "MAHARASHTRA         88009   43076   131085.0\n",
       "MANIPUR               200      90      290.0\n",
       "MEGHALAYA             559     224      783.0\n",
       "MIZORAM               390      69      459.0\n",
       "NAGALAND              174      49      223.0\n",
       "ODISHA              24415   17408    41823.0\n",
       "PUDUCHERRY           2235    1391     3626.0\n",
       "PUNJAB               5936    1806     7742.0\n",
       "RAJASTHAN           27254   13813    41067.0\n",
       "SIKKIM               1035     537     1572.0\n",
       "TAMIL NADU          74645   44640   119285.0\n",
       "TOTAL (ALL INDIA)  696291  402516  1098807.0\n",
       "TOTAL (STATES)     684413  395560  1079973.0\n",
       "TOTAL (UTs)         11878    6956    18834.0\n",
       "TRIPURA              3444    2529     5973.0\n",
       "UTTAR PRADESH       19796   17301    37097.0\n",
       "UTTARAKHAND          1736    1207     2943.0\n",
       "WEST BENGAL         74219   58037   132256.0"
      ]
     },
     "execution_count": 8,
     "metadata": {},
     "output_type": "execute_result"
    }
   ],
   "source": [
    "d1"
   ]
  },
  {
   "cell_type": "code",
   "execution_count": 9,
   "metadata": {},
   "outputs": [
    {
     "data": {
      "text/plain": [
       "54970.34210526316"
      ]
     },
     "execution_count": 9,
     "metadata": {},
     "output_type": "execute_result"
    }
   ],
   "source": [
    "mean = np.average(d1['Male'])\n",
    "mean"
   ]
  },
  {
   "cell_type": "code",
   "execution_count": 10,
   "metadata": {},
   "outputs": [
    {
     "data": {
      "text/plain": [
       "152095.565589408"
      ]
     },
     "execution_count": 10,
     "metadata": {},
     "output_type": "execute_result"
    }
   ],
   "source": [
    "std = np.std(d1['Male'])\n",
    "std"
   ]
  },
  {
   "cell_type": "code",
   "execution_count": 11,
   "metadata": {},
   "outputs": [
    {
     "data": {
      "text/plain": [
       "0.9989452195414947"
      ]
     },
     "execution_count": 11,
     "metadata": {},
     "output_type": "execute_result"
    }
   ],
   "source": [
    "cor1 = cal_corr('Male','Female',d1)\n",
    "cor1"
   ]
  },
  {
   "cell_type": "code",
   "execution_count": 12,
   "metadata": {},
   "outputs": [
    {
     "data": {
      "text/plain": [
       "<Figure size 576x576 with 0 Axes>"
      ]
     },
     "metadata": {},
     "output_type": "display_data"
    }
   ],
   "source": [
    "plt.figure(figsize=(8,8))\n",
    "font = { 'size'   : 7 }\n",
    "\n",
    "plt.rc('font', **font)"
   ]
  },
  {
   "cell_type": "code",
   "execution_count": 13,
   "metadata": {},
   "outputs": [
    {
     "data": {
      "text/plain": [
       "(19608, 6)"
      ]
     },
     "execution_count": 13,
     "metadata": {},
     "output_type": "execute_result"
    }
   ],
   "source": [
    "data.shape"
   ]
  },
  {
   "cell_type": "code",
   "execution_count": 14,
   "metadata": {},
   "outputs": [
    {
     "data": {
      "image/png": "[encoded data removed]",
      "text/plain": [
       "<Figure size 432x288 with 1 Axes>"
      ]
     },
     "metadata": {
      "needs_background": "light"
     },
     "output_type": "display_data"
    }
   ],
   "source": [
    "d1['Total'].plot(kind=\"barh\")\n",
    "plt.xlabel('Total no. of suicide cases')\n",
    "plt.show()"
   ]
  },
  {
   "cell_type": "code",
   "execution_count": 15,
   "metadata": {},
   "outputs": [
    {
     "data": {
      "image/png": "[encoded data removed]",
      "text/plain": [
       "<Figure size 432x288 with 1 Axes>"
      ]
     },
     "metadata": {
      "needs_background": "light"
     },
     "output_type": "display_data"
    }
   ],
   "source": [
    "d1['Male'].plot(kind=\"barh\")\n",
    "plt.xlabel('No. of Male suicide cases')\n",
    "plt.show()"
   ]
  },
  {
   "cell_type": "code",
   "execution_count": 16,
   "metadata": {},
   "outputs": [
    {
     "data": {
      "image/png": "[encoded data removed]",
      "text/plain": [
       "<Figure size 432x288 with 1 Axes>"
      ]
     },
     "metadata": {
      "needs_background": "light"
     },
     "output_type": "display_data"
    }
   ],
   "source": [
    "d1['Female'].plot(kind=\"barh\")\n",
    "plt.xlabel('No. of Female suicide cases')\n",
    "plt.show()"
   ]
  }
 ],
 "metadata": {
  "kernelspec": {
   "display_name": "Python 3",
   "language": "python",
   "name": "python3"
  },
  "language_info": {
   "codemirror_mode": {
    "name": "ipython",
    "version": 3
   },
   "file_extension": ".py",
   "mimetype": "text/x-python",
   "name": "python",
   "nbconvert_exporter": "python",
   "pygments_lexer": "ipython3",
   "version": "3.7.4"
  }
 },
 "nbformat": 4,
 "nbformat_minor": 2
}
