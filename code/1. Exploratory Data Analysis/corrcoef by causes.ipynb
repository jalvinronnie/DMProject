{
 "cells": [
  {
   "cell_type": "code",
   "execution_count": 1,
   "metadata": {},
   "outputs": [],
   "source": [
    "import pandas as pd\n",
    "import numpy as np\n",
    "pd.plotting.register_matplotlib_converters()\n",
    "import matplotlib.pyplot as plt\n",
    "%matplotlib inline\n",
    "import seaborn as sns\n",
    "import math"
   ]
  },
  {
   "cell_type": "markdown",
   "metadata": {},
   "source": [
    "\"cal_corr\" is user defined function to calculate correlation coefficient."
   ]
  },
  {
   "cell_type": "code",
   "execution_count": 2,
   "metadata": {},
   "outputs": [],
   "source": [
    "def cal_corr (p,q,data):\n",
    "    x=[]\n",
    "    y=[]\n",
    "    for i in data[p]:\n",
    "     x.append(i)\n",
    "    for i in data[q]:\n",
    "     y.append(i)\n",
    "    x = x - np.mean(x)\n",
    "    y = y - np.mean(y)\n",
    "    return np.dot(x, y) / math.sqrt(np.dot(x, x) * np.dot(y, y))"
   ]
  },
  {
   "cell_type": "code",
   "execution_count": 36,
   "metadata": {},
   "outputs": [],
   "source": [
    "data=pd.read_excel('~/DMFinalTerm_TeamID_05/data/merged.xlsx')"
   ]
  },
  {
   "cell_type": "code",
   "execution_count": 6,
   "metadata": {},
   "outputs": [
    {
     "data": {
      "text/html": [
       "<div>\n",
       "<style scoped>\n",
       "    .dataframe tbody tr th:only-of-type {\n",
       "        vertical-align: middle;\n",
       "    }\n",
       "\n",
       "    .dataframe tbody tr th {\n",
       "        vertical-align: top;\n",
       "    }\n",
       "\n",
       "    .dataframe thead th {\n",
       "        text-align: right;\n",
       "    }\n",
       "</style>\n",
       "<table border=\"1\" class=\"dataframe\">\n",
       "  <thead>\n",
       "    <tr style=\"text-align: right;\">\n",
       "      <th></th>\n",
       "      <th>STATE/UT</th>\n",
       "      <th>Year</th>\n",
       "      <th>CAUSE</th>\n",
       "      <th>Male</th>\n",
       "      <th>Female</th>\n",
       "      <th>Total</th>\n",
       "    </tr>\n",
       "  </thead>\n",
       "  <tbody>\n",
       "    <tr>\n",
       "      <td>0</td>\n",
       "      <td>A &amp; N ISLANDS</td>\n",
       "      <td>2001</td>\n",
       "      <td>No Education</td>\n",
       "      <td>7</td>\n",
       "      <td>4</td>\n",
       "      <td>11.0</td>\n",
       "    </tr>\n",
       "    <tr>\n",
       "      <td>1</td>\n",
       "      <td>A &amp; N ISLANDS</td>\n",
       "      <td>2001</td>\n",
       "      <td>Primary</td>\n",
       "      <td>20</td>\n",
       "      <td>7</td>\n",
       "      <td>27.0</td>\n",
       "    </tr>\n",
       "    <tr>\n",
       "      <td>2</td>\n",
       "      <td>A &amp; N ISLANDS</td>\n",
       "      <td>2001</td>\n",
       "      <td>Middle</td>\n",
       "      <td>39</td>\n",
       "      <td>33</td>\n",
       "      <td>72.0</td>\n",
       "    </tr>\n",
       "    <tr>\n",
       "      <td>3</td>\n",
       "      <td>A &amp; N ISLANDS</td>\n",
       "      <td>2001</td>\n",
       "      <td>Matriculate/Secondary</td>\n",
       "      <td>10</td>\n",
       "      <td>6</td>\n",
       "      <td>16.0</td>\n",
       "    </tr>\n",
       "    <tr>\n",
       "      <td>4</td>\n",
       "      <td>A &amp; N ISLANDS</td>\n",
       "      <td>2001</td>\n",
       "      <td>Hr. Secondary/Intermediate/Pre-Universit</td>\n",
       "      <td>2</td>\n",
       "      <td>0</td>\n",
       "      <td>2.0</td>\n",
       "    </tr>\n",
       "    <tr>\n",
       "      <td>...</td>\n",
       "      <td>...</td>\n",
       "      <td>...</td>\n",
       "      <td>...</td>\n",
       "      <td>...</td>\n",
       "      <td>...</td>\n",
       "      <td>...</td>\n",
       "    </tr>\n",
       "    <tr>\n",
       "      <td>19601</td>\n",
       "      <td>WEST BENGAL</td>\n",
       "      <td>2012</td>\n",
       "      <td>Professional/Career Problem</td>\n",
       "      <td>0</td>\n",
       "      <td>0</td>\n",
       "      <td>0.0</td>\n",
       "    </tr>\n",
       "    <tr>\n",
       "      <td>19602</td>\n",
       "      <td>WEST BENGAL</td>\n",
       "      <td>2012</td>\n",
       "      <td>Property Dispute</td>\n",
       "      <td>0</td>\n",
       "      <td>0</td>\n",
       "      <td>0.0</td>\n",
       "    </tr>\n",
       "    <tr>\n",
       "      <td>19603</td>\n",
       "      <td>WEST BENGAL</td>\n",
       "      <td>2012</td>\n",
       "      <td>Unemployment</td>\n",
       "      <td>0</td>\n",
       "      <td>0</td>\n",
       "      <td>0.0</td>\n",
       "    </tr>\n",
       "    <tr>\n",
       "      <td>19604</td>\n",
       "      <td>WEST BENGAL</td>\n",
       "      <td>2012</td>\n",
       "      <td>Causes Not known</td>\n",
       "      <td>0</td>\n",
       "      <td>0</td>\n",
       "      <td>0.0</td>\n",
       "    </tr>\n",
       "    <tr>\n",
       "      <td>19605</td>\n",
       "      <td>WEST BENGAL</td>\n",
       "      <td>2012</td>\n",
       "      <td>Other Causes (Please Specity)</td>\n",
       "      <td>0</td>\n",
       "      <td>0</td>\n",
       "      <td>0.0</td>\n",
       "    </tr>\n",
       "  </tbody>\n",
       "</table>\n",
       "<p>17784 rows × 6 columns</p>\n",
       "</div>"
      ],
      "text/plain": [
       "            STATE/UT  Year                                     CAUSE  Male  \\\n",
       "0      A & N ISLANDS  2001                              No Education     7   \n",
       "1      A & N ISLANDS  2001                                   Primary    20   \n",
       "2      A & N ISLANDS  2001                                    Middle    39   \n",
       "3      A & N ISLANDS  2001                     Matriculate/Secondary    10   \n",
       "4      A & N ISLANDS  2001  Hr. Secondary/Intermediate/Pre-Universit     2   \n",
       "...              ...   ...                                       ...   ...   \n",
       "19601    WEST BENGAL  2012               Professional/Career Problem     0   \n",
       "19602    WEST BENGAL  2012                          Property Dispute     0   \n",
       "19603    WEST BENGAL  2012                              Unemployment     0   \n",
       "19604    WEST BENGAL  2012                          Causes Not known     0   \n",
       "19605    WEST BENGAL  2012             Other Causes (Please Specity)     0   \n",
       "\n",
       "       Female  Total  \n",
       "0           4   11.0  \n",
       "1           7   27.0  \n",
       "2          33   72.0  \n",
       "3           6   16.0  \n",
       "4           0    2.0  \n",
       "...       ...    ...  \n",
       "19601       0    0.0  \n",
       "19602       0    0.0  \n",
       "19603       0    0.0  \n",
       "19604       0    0.0  \n",
       "19605       0    0.0  \n",
       "\n",
       "[17784 rows x 6 columns]"
      ]
     },
     "execution_count": 6,
     "metadata": {},
     "output_type": "execute_result"
    }
   ],
   "source": [
    "d1=data[~data['CAUSE'].isin(['Total','Total Illness'])]\n",
    "d1"
   ]
  },
  {
   "cell_type": "code",
   "execution_count": 7,
   "metadata": {},
   "outputs": [],
   "source": [
    "d2=d1.drop(['STATE/UT','Year'],axis=1)\n",
    "d1=d2.groupby(['CAUSE']).sum()"
   ]
  },
  {
   "cell_type": "code",
   "execution_count": 8,
   "metadata": {},
   "outputs": [
    {
     "data": {
      "text/html": [
       "<div>\n",
       "<style scoped>\n",
       "    .dataframe tbody tr th:only-of-type {\n",
       "        vertical-align: middle;\n",
       "    }\n",
       "\n",
       "    .dataframe tbody tr th {\n",
       "        vertical-align: top;\n",
       "    }\n",
       "\n",
       "    .dataframe thead th {\n",
       "        text-align: right;\n",
       "    }\n",
       "</style>\n",
       "<table border=\"1\" class=\"dataframe\">\n",
       "  <thead>\n",
       "    <tr style=\"text-align: right;\">\n",
       "      <th></th>\n",
       "      <th>Male</th>\n",
       "      <th>Female</th>\n",
       "      <th>Total</th>\n",
       "    </tr>\n",
       "    <tr>\n",
       "      <th>CAUSE</th>\n",
       "      <th></th>\n",
       "      <th></th>\n",
       "      <th></th>\n",
       "    </tr>\n",
       "  </thead>\n",
       "  <tbody>\n",
       "    <tr>\n",
       "      <td>Bankruptcy or Sudden change in Economic Status</td>\n",
       "      <td>93525</td>\n",
       "      <td>12705</td>\n",
       "      <td>106230.0</td>\n",
       "    </tr>\n",
       "    <tr>\n",
       "      <td>Cancellation/Non-Settlement of Marriage</td>\n",
       "      <td>15510</td>\n",
       "      <td>18378</td>\n",
       "      <td>33888.0</td>\n",
       "    </tr>\n",
       "    <tr>\n",
       "      <td>Cancer</td>\n",
       "      <td>18540</td>\n",
       "      <td>8634</td>\n",
       "      <td>27174.0</td>\n",
       "    </tr>\n",
       "    <tr>\n",
       "      <td>Causes Not known</td>\n",
       "      <td>480510</td>\n",
       "      <td>230697</td>\n",
       "      <td>711207.0</td>\n",
       "    </tr>\n",
       "    <tr>\n",
       "      <td>Death of Dear Person</td>\n",
       "      <td>16842</td>\n",
       "      <td>14121</td>\n",
       "      <td>30963.0</td>\n",
       "    </tr>\n",
       "    <tr>\n",
       "      <td>Diploma</td>\n",
       "      <td>31257</td>\n",
       "      <td>11202</td>\n",
       "      <td>42459.0</td>\n",
       "    </tr>\n",
       "    <tr>\n",
       "      <td>Divorce</td>\n",
       "      <td>4794</td>\n",
       "      <td>7605</td>\n",
       "      <td>12399.0</td>\n",
       "    </tr>\n",
       "    <tr>\n",
       "      <td>Divorcee</td>\n",
       "      <td>22740</td>\n",
       "      <td>23076</td>\n",
       "      <td>45816.0</td>\n",
       "    </tr>\n",
       "    <tr>\n",
       "      <td>Dowry Dispute</td>\n",
       "      <td>2292</td>\n",
       "      <td>93618</td>\n",
       "      <td>95910.0</td>\n",
       "    </tr>\n",
       "    <tr>\n",
       "      <td>Drug Abuse/Addiction</td>\n",
       "      <td>86523</td>\n",
       "      <td>3615</td>\n",
       "      <td>90138.0</td>\n",
       "    </tr>\n",
       "    <tr>\n",
       "      <td>Failure in Examination</td>\n",
       "      <td>44853</td>\n",
       "      <td>36162</td>\n",
       "      <td>81015.0</td>\n",
       "    </tr>\n",
       "    <tr>\n",
       "      <td>Fall in Social Reputation</td>\n",
       "      <td>26301</td>\n",
       "      <td>14091</td>\n",
       "      <td>40392.0</td>\n",
       "    </tr>\n",
       "    <tr>\n",
       "      <td>Family Problems</td>\n",
       "      <td>626313</td>\n",
       "      <td>399543</td>\n",
       "      <td>1025856.0</td>\n",
       "    </tr>\n",
       "    <tr>\n",
       "      <td>Graduate</td>\n",
       "      <td>64770</td>\n",
       "      <td>29052</td>\n",
       "      <td>93822.0</td>\n",
       "    </tr>\n",
       "    <tr>\n",
       "      <td>Hr. Secondary/Intermediate/Pre-Universit</td>\n",
       "      <td>238506</td>\n",
       "      <td>118218</td>\n",
       "      <td>356724.0</td>\n",
       "    </tr>\n",
       "    <tr>\n",
       "      <td>Ideological Causes/Hero Worshipping</td>\n",
       "      <td>4026</td>\n",
       "      <td>2328</td>\n",
       "      <td>6354.0</td>\n",
       "    </tr>\n",
       "    <tr>\n",
       "      <td>Illegitimate Pregnancy</td>\n",
       "      <td>309</td>\n",
       "      <td>7173</td>\n",
       "      <td>7482.0</td>\n",
       "    </tr>\n",
       "    <tr>\n",
       "      <td>Illness (Aids/STD)</td>\n",
       "      <td>17493</td>\n",
       "      <td>8676</td>\n",
       "      <td>26169.0</td>\n",
       "    </tr>\n",
       "    <tr>\n",
       "      <td>Insanity/Mental Illness</td>\n",
       "      <td>182631</td>\n",
       "      <td>100056</td>\n",
       "      <td>282687.0</td>\n",
       "    </tr>\n",
       "    <tr>\n",
       "      <td>Love Affairs</td>\n",
       "      <td>71100</td>\n",
       "      <td>64017</td>\n",
       "      <td>135117.0</td>\n",
       "    </tr>\n",
       "    <tr>\n",
       "      <td>Married</td>\n",
       "      <td>1995021</td>\n",
       "      <td>1070301</td>\n",
       "      <td>3065322.0</td>\n",
       "    </tr>\n",
       "    <tr>\n",
       "      <td>Matriculate/Secondary</td>\n",
       "      <td>523878</td>\n",
       "      <td>245820</td>\n",
       "      <td>769698.0</td>\n",
       "    </tr>\n",
       "    <tr>\n",
       "      <td>Middle</td>\n",
       "      <td>675624</td>\n",
       "      <td>353289</td>\n",
       "      <td>1028913.0</td>\n",
       "    </tr>\n",
       "    <tr>\n",
       "      <td>Never Married</td>\n",
       "      <td>608523</td>\n",
       "      <td>346380</td>\n",
       "      <td>954903.0</td>\n",
       "    </tr>\n",
       "    <tr>\n",
       "      <td>No Education</td>\n",
       "      <td>566445</td>\n",
       "      <td>398826</td>\n",
       "      <td>965271.0</td>\n",
       "    </tr>\n",
       "    <tr>\n",
       "      <td>Not having Children(Barrenness/Impotency)</td>\n",
       "      <td>7563</td>\n",
       "      <td>18201</td>\n",
       "      <td>25764.0</td>\n",
       "    </tr>\n",
       "    <tr>\n",
       "      <td>Other Causes (Please Specity)</td>\n",
       "      <td>434445</td>\n",
       "      <td>213705</td>\n",
       "      <td>648150.0</td>\n",
       "    </tr>\n",
       "    <tr>\n",
       "      <td>Other Prolonged Illness</td>\n",
       "      <td>376479</td>\n",
       "      <td>207216</td>\n",
       "      <td>583695.0</td>\n",
       "    </tr>\n",
       "    <tr>\n",
       "      <td>Paralysis</td>\n",
       "      <td>15006</td>\n",
       "      <td>6852</td>\n",
       "      <td>21858.0</td>\n",
       "    </tr>\n",
       "    <tr>\n",
       "      <td>Physical Abuse (Rape,Incest Etc.)</td>\n",
       "      <td>3990</td>\n",
       "      <td>7986</td>\n",
       "      <td>11976.0</td>\n",
       "    </tr>\n",
       "    <tr>\n",
       "      <td>Post Graduate and Above</td>\n",
       "      <td>15813</td>\n",
       "      <td>6612</td>\n",
       "      <td>22425.0</td>\n",
       "    </tr>\n",
       "    <tr>\n",
       "      <td>Poverty</td>\n",
       "      <td>74337</td>\n",
       "      <td>23715</td>\n",
       "      <td>98052.0</td>\n",
       "    </tr>\n",
       "    <tr>\n",
       "      <td>Primary</td>\n",
       "      <td>679461</td>\n",
       "      <td>409020</td>\n",
       "      <td>1088481.0</td>\n",
       "    </tr>\n",
       "    <tr>\n",
       "      <td>Professional/Career Problem</td>\n",
       "      <td>32874</td>\n",
       "      <td>4788</td>\n",
       "      <td>37662.0</td>\n",
       "    </tr>\n",
       "    <tr>\n",
       "      <td>Property Dispute</td>\n",
       "      <td>42153</td>\n",
       "      <td>13803</td>\n",
       "      <td>55956.0</td>\n",
       "    </tr>\n",
       "    <tr>\n",
       "      <td>Seperated</td>\n",
       "      <td>72918</td>\n",
       "      <td>42495</td>\n",
       "      <td>115413.0</td>\n",
       "    </tr>\n",
       "    <tr>\n",
       "      <td>Suspected/Illicit Relation</td>\n",
       "      <td>20454</td>\n",
       "      <td>24279</td>\n",
       "      <td>44733.0</td>\n",
       "    </tr>\n",
       "    <tr>\n",
       "      <td>Unemployment</td>\n",
       "      <td>70851</td>\n",
       "      <td>11244</td>\n",
       "      <td>82095.0</td>\n",
       "    </tr>\n",
       "    <tr>\n",
       "      <td>Widowed/Widower</td>\n",
       "      <td>96552</td>\n",
       "      <td>89787</td>\n",
       "      <td>186339.0</td>\n",
       "    </tr>\n",
       "  </tbody>\n",
       "</table>\n",
       "</div>"
      ],
      "text/plain": [
       "                                                   Male   Female      Total\n",
       "CAUSE                                                                      \n",
       "Bankruptcy or Sudden change in Economic Status    93525    12705   106230.0\n",
       "Cancellation/Non-Settlement of Marriage           15510    18378    33888.0\n",
       "Cancer                                            18540     8634    27174.0\n",
       "Causes Not known                                 480510   230697   711207.0\n",
       "Death of Dear Person                              16842    14121    30963.0\n",
       "Diploma                                           31257    11202    42459.0\n",
       "Divorce                                            4794     7605    12399.0\n",
       "Divorcee                                          22740    23076    45816.0\n",
       "Dowry Dispute                                      2292    93618    95910.0\n",
       "Drug Abuse/Addiction                              86523     3615    90138.0\n",
       "Failure in Examination                            44853    36162    81015.0\n",
       "Fall in Social Reputation                         26301    14091    40392.0\n",
       "Family Problems                                  626313   399543  1025856.0\n",
       "Graduate                                          64770    29052    93822.0\n",
       "Hr. Secondary/Intermediate/Pre-Universit         238506   118218   356724.0\n",
       "Ideological Causes/Hero Worshipping                4026     2328     6354.0\n",
       "Illegitimate Pregnancy                              309     7173     7482.0\n",
       "Illness (Aids/STD)                                17493     8676    26169.0\n",
       "Insanity/Mental Illness                          182631   100056   282687.0\n",
       "Love Affairs                                      71100    64017   135117.0\n",
       "Married                                         1995021  1070301  3065322.0\n",
       "Matriculate/Secondary                            523878   245820   769698.0\n",
       "Middle                                           675624   353289  1028913.0\n",
       "Never Married                                    608523   346380   954903.0\n",
       "No Education                                     566445   398826   965271.0\n",
       "Not having Children(Barrenness/Impotency)          7563    18201    25764.0\n",
       "Other Causes (Please Specity)                    434445   213705   648150.0\n",
       "Other Prolonged Illness                          376479   207216   583695.0\n",
       "Paralysis                                         15006     6852    21858.0\n",
       "Physical Abuse (Rape,Incest Etc.)                  3990     7986    11976.0\n",
       "Post Graduate and Above                           15813     6612    22425.0\n",
       "Poverty                                           74337    23715    98052.0\n",
       "Primary                                          679461   409020  1088481.0\n",
       "Professional/Career Problem                       32874     4788    37662.0\n",
       "Property Dispute                                  42153    13803    55956.0\n",
       "Seperated                                         72918    42495   115413.0\n",
       "Suspected/Illicit Relation                        20454    24279    44733.0\n",
       "Unemployment                                      70851    11244    82095.0\n",
       "Widowed/Widower                                   96552    89787   186339.0"
      ]
     },
     "execution_count": 8,
     "metadata": {},
     "output_type": "execute_result"
    }
   ],
   "source": [
    "d1"
   ]
  },
  {
   "cell_type": "markdown",
   "metadata": {},
   "source": [
    "Plotting \"Cause\" vs \"Total\"."
   ]
  },
  {
   "cell_type": "code",
   "execution_count": 9,
   "metadata": {},
   "outputs": [
    {
     "data": {
      "image/png": "[encoded data removed]",
      "text/plain": [
       "<Figure size 432x288 with 1 Axes>"
      ]
     },
     "metadata": {
      "needs_background": "light"
     },
     "output_type": "display_data"
    }
   ],
   "source": [
    "\n",
    "font = { 'size'   : 7 }\n",
    "\n",
    "plt.rc('font', **font)\n",
    "d1['Total'].plot(kind=\"barh\")\n",
    "plt.show()"
   ]
  },
  {
   "cell_type": "markdown",
   "metadata": {},
   "source": [
    "Calculating correlation coefficent among 'Male' and 'Female' for all cause of death."
   ]
  },
  {
   "cell_type": "code",
   "execution_count": 10,
   "metadata": {},
   "outputs": [
    {
     "data": {
      "text/plain": [
       "0.10025899637289869"
      ]
     },
     "execution_count": 10,
     "metadata": {},
     "output_type": "execute_result"
    }
   ],
   "source": [
    "d3 = data[data['CAUSE'].isin(['Bankruptcy or Sudden change in Economic Status'])]\n",
    "d4=d3.drop(['STATE/UT','CAUSE'],axis=1)\n",
    "d3=d4.groupby(['Year']).sum()\n",
    "cor = cal_corr('Male','Female',d3)\n",
    "cor"
   ]
  },
  {
   "cell_type": "code",
   "execution_count": 11,
   "metadata": {},
   "outputs": [
    {
     "data": {
      "text/plain": [
       "-0.0051767157597300256"
      ]
     },
     "execution_count": 11,
     "metadata": {},
     "output_type": "execute_result"
    }
   ],
   "source": [
    "d3 = data[data['CAUSE'].isin(['Not having Children(Barrenness/Impotency)'])]\n",
    "d4=d3.drop(['STATE/UT','CAUSE'],axis=1)\n",
    "d3=d4.groupby(['Year']).sum()\n",
    "cor = cal_corr('Male','Female',d3)\n",
    "cor"
   ]
  },
  {
   "cell_type": "code",
   "execution_count": 12,
   "metadata": {},
   "outputs": [
    {
     "data": {
      "text/plain": [
       "0.23358743869824952"
      ]
     },
     "execution_count": 12,
     "metadata": {},
     "output_type": "execute_result"
    }
   ],
   "source": [
    "d3 = data[data['CAUSE'].isin(['Suspected/Illicit Relation'])]\n",
    "d4=d3.drop(['STATE/UT','CAUSE'],axis=1)\n",
    "d3=d4.groupby(['Year']).sum()\n",
    "cor = cal_corr('Male','Female',d3)\n",
    "cor"
   ]
  },
  {
   "cell_type": "code",
   "execution_count": 13,
   "metadata": {},
   "outputs": [
    {
     "data": {
      "text/plain": [
       "0.26378209749123743"
      ]
     },
     "execution_count": 13,
     "metadata": {},
     "output_type": "execute_result"
    }
   ],
   "source": [
    "d3 = data[data['CAUSE'].isin(['Cancellation/Non-Settlement of Marriage'])]\n",
    "d4=d3.drop(['STATE/UT','CAUSE'],axis=1)\n",
    "d3=d4.groupby(['Year']).sum()\n",
    "cor =cal_corr('Male','Female',d3)\n",
    "cor"
   ]
  },
  {
   "cell_type": "code",
   "execution_count": 14,
   "metadata": {},
   "outputs": [
    {
     "data": {
      "text/plain": [
       "0.8694532939075629"
      ]
     },
     "execution_count": 14,
     "metadata": {},
     "output_type": "execute_result"
    }
   ],
   "source": [
    "d3 = data[data['CAUSE'].isin(['Illness (Aids/STD)'])]\n",
    "d4=d3.drop(['STATE/UT','CAUSE'],axis=1)\n",
    "d3=d4.groupby(['Year']).sum()\n",
    "cor =cal_corr('Male','Female',d3)\n",
    "cor"
   ]
  },
  {
   "cell_type": "code",
   "execution_count": 15,
   "metadata": {},
   "outputs": [
    {
     "data": {
      "text/plain": [
       "0.33860592457917826"
      ]
     },
     "execution_count": 15,
     "metadata": {},
     "output_type": "execute_result"
    }
   ],
   "source": [
    "d3 = data[data['CAUSE'].isin(['Professional/Career Problem'])]\n",
    "d4=d3.drop(['STATE/UT','CAUSE'],axis=1)\n",
    "d3=d4.groupby(['Year']).sum()\n",
    "cor = cal_corr('Male','Female',d3)\n",
    "cor"
   ]
  },
  {
   "cell_type": "code",
   "execution_count": 16,
   "metadata": {},
   "outputs": [
    {
     "data": {
      "text/plain": [
       "0.878675972654549"
      ]
     },
     "execution_count": 16,
     "metadata": {},
     "output_type": "execute_result"
    }
   ],
   "source": [
    "d3 = data[data['CAUSE'].isin(['Property Dispute'])]\n",
    "d4=d3.drop(['STATE/UT','CAUSE'],axis=1)\n",
    "d3=d4.groupby(['Year']).sum()\n",
    "cor = cal_corr('Male','Female',d3)\n",
    "cor"
   ]
  },
  {
   "cell_type": "code",
   "execution_count": 17,
   "metadata": {},
   "outputs": [
    {
     "data": {
      "text/plain": [
       "0.33860592457917826"
      ]
     },
     "execution_count": 17,
     "metadata": {},
     "output_type": "execute_result"
    }
   ],
   "source": [
    "d3 = data[data['CAUSE'].isin(['Professional/Career Problem'])]\n",
    "d4=d3.drop(['STATE/UT','CAUSE'],axis=1)\n",
    "d3=d4.groupby(['Year']).sum()\n",
    "cor = cal_corr('Male','Female',d3)\n",
    "cor"
   ]
  },
  {
   "cell_type": "code",
   "execution_count": 18,
   "metadata": {},
   "outputs": [
    {
     "data": {
      "text/plain": [
       "0.6407716775487273"
      ]
     },
     "execution_count": 18,
     "metadata": {},
     "output_type": "execute_result"
    }
   ],
   "source": [
    "d3 = data[data['CAUSE'].isin(['Unemployment'])]\n",
    "d4=d3.drop(['STATE/UT','CAUSE'],axis=1)\n",
    "d3=d4.groupby(['Year']).sum()\n",
    "cor = cal_corr('Male','Female',d3)\n",
    "cor"
   ]
  },
  {
   "cell_type": "code",
   "execution_count": 19,
   "metadata": {},
   "outputs": [
    {
     "data": {
      "text/plain": [
       "0.7727571128653988"
      ]
     },
     "execution_count": 19,
     "metadata": {},
     "output_type": "execute_result"
    }
   ],
   "source": [
    "d3 = data[data['CAUSE'].isin(['Causes Not known'])]\n",
    "d4=d3.drop(['STATE/UT','CAUSE'],axis=1)\n",
    "d3=d4.groupby(['Year']).sum()\n",
    "cor =cal_corr('Male','Female',d3)\n",
    "cor"
   ]
  },
  {
   "cell_type": "code",
   "execution_count": 20,
   "metadata": {},
   "outputs": [
    {
     "data": {
      "text/plain": [
       "0.724219685272086"
      ]
     },
     "execution_count": 20,
     "metadata": {},
     "output_type": "execute_result"
    }
   ],
   "source": [
    "d3 = data[data['CAUSE'].isin(['Cancer'])]\n",
    "d4=d3.drop(['STATE/UT','CAUSE'],axis=1)\n",
    "d3=d4.groupby(['Year']).sum()\n",
    "cor =cal_corr('Male','Female',d3)\n",
    "cor"
   ]
  },
  {
   "cell_type": "code",
   "execution_count": 21,
   "metadata": {},
   "outputs": [
    {
     "data": {
      "text/plain": [
       "0.8754589170176449"
      ]
     },
     "execution_count": 21,
     "metadata": {},
     "output_type": "execute_result"
    }
   ],
   "source": [
    "d3 = data[data['CAUSE'].isin(['Other Causes (Please Specity)'])]\n",
    "d4=d3.drop(['STATE/UT','CAUSE'],axis=1)\n",
    "d3=d4.groupby(['Year']).sum()\n",
    "cor = cal_corr('Male','Female',d3)\n",
    "cor"
   ]
  },
  {
   "cell_type": "code",
   "execution_count": 22,
   "metadata": {},
   "outputs": [
    {
     "data": {
      "text/plain": [
       "0.9512753147058589"
      ]
     },
     "execution_count": 22,
     "metadata": {},
     "output_type": "execute_result"
    }
   ],
   "source": [
    "d3 = data[data['CAUSE'].isin(['Insanity/Mental Illness'])]\n",
    "d4=d3.drop(['STATE/UT','CAUSE'],axis=1)\n",
    "d3=d4.groupby(['Year']).sum()\n",
    "cor = cal_corr('Male','Female',d3)\n",
    "cor"
   ]
  },
  {
   "cell_type": "code",
   "execution_count": 23,
   "metadata": {},
   "outputs": [
    {
     "data": {
      "text/plain": [
       "0.8974762274086474"
      ]
     },
     "execution_count": 23,
     "metadata": {},
     "output_type": "execute_result"
    }
   ],
   "source": [
    "d3 = data[data['CAUSE'].isin(['Other Prolonged Illness'])]\n",
    "d4=d3.drop(['STATE/UT','CAUSE'],axis=1)\n",
    "d3=d4.groupby(['Year']).sum()\n",
    "cor = cal_corr('Male','Female',d3)\n",
    "cor"
   ]
  },
  {
   "cell_type": "code",
   "execution_count": 24,
   "metadata": {},
   "outputs": [
    {
     "data": {
      "text/plain": [
       "0.5372119897764651"
      ]
     },
     "execution_count": 24,
     "metadata": {},
     "output_type": "execute_result"
    }
   ],
   "source": [
    "d3 = data[data['CAUSE'].isin(['Death of Dear Person'])]\n",
    "d4=d3.drop(['STATE/UT','CAUSE'],axis=1)\n",
    "d3=d4.groupby(['Year']).sum()\n",
    "cor =cal_corr('Male','Female',d3)\n",
    "cor"
   ]
  },
  {
   "cell_type": "code",
   "execution_count": 25,
   "metadata": {},
   "outputs": [
    {
     "data": {
      "text/plain": [
       "0.41747150593335297"
      ]
     },
     "execution_count": 25,
     "metadata": {},
     "output_type": "execute_result"
    }
   ],
   "source": [
    "d3 = data[data['CAUSE'].isin(['Dowry Dispute'])]\n",
    "d4=d3.drop(['STATE/UT','CAUSE'],axis=1)\n",
    "d3=d4.groupby(['Year']).sum()\n",
    "cor =cal_corr('Male','Female',d3)\n",
    "cor"
   ]
  },
  {
   "cell_type": "code",
   "execution_count": 26,
   "metadata": {},
   "outputs": [
    {
     "data": {
      "text/plain": [
       "-0.026099473153982453"
      ]
     },
     "execution_count": 26,
     "metadata": {},
     "output_type": "execute_result"
    }
   ],
   "source": [
    "d3 = data[data['CAUSE'].isin(['Divorce'])]\n",
    "d4=d3.drop(['STATE/UT','CAUSE'],axis=1)\n",
    "d3=d4.groupby(['Year']).sum()\n",
    "cor = cal_corr('Male','Female',d3)\n",
    "cor"
   ]
  },
  {
   "cell_type": "code",
   "execution_count": 27,
   "metadata": {},
   "outputs": [
    {
     "data": {
      "text/plain": [
       "0.7196653080079486"
      ]
     },
     "execution_count": 27,
     "metadata": {},
     "output_type": "execute_result"
    }
   ],
   "source": [
    "d3 = data[data['CAUSE'].isin(['Drug Abuse/Addiction'])]\n",
    "d4=d3.drop(['STATE/UT','CAUSE'],axis=1)\n",
    "d3=d4.groupby(['Year']).sum()\n",
    "cor =cal_corr('Male','Female',d3)\n",
    "cor"
   ]
  },
  {
   "cell_type": "code",
   "execution_count": 28,
   "metadata": {},
   "outputs": [
    {
     "data": {
      "text/plain": [
       "0.8195675242655065"
      ]
     },
     "execution_count": 28,
     "metadata": {},
     "output_type": "execute_result"
    }
   ],
   "source": [
    "d3 = data[data['CAUSE'].isin(['Fall in Social Reputation'])]\n",
    "d4=d3.drop(['STATE/UT','CAUSE'],axis=1)\n",
    "d3=d4.groupby(['Year']).sum()\n",
    "cor = cal_corr('Male','Female',d3)\n",
    "cor"
   ]
  },
  {
   "cell_type": "code",
   "execution_count": 29,
   "metadata": {},
   "outputs": [
    {
     "data": {
      "text/plain": [
       "0.8995333362118375"
      ]
     },
     "execution_count": 29,
     "metadata": {},
     "output_type": "execute_result"
    }
   ],
   "source": [
    "d3 = data[data['CAUSE'].isin(['Family Problems'])]\n",
    "d4=d3.drop(['STATE/UT','CAUSE'],axis=1)\n",
    "d3=d4.groupby(['Year']).sum()\n",
    "cor =cal_corr('Male','Female',d3)\n",
    "cor"
   ]
  },
  {
   "cell_type": "code",
   "execution_count": 30,
   "metadata": {},
   "outputs": [
    {
     "data": {
      "text/plain": [
       "0.6254384616951937"
      ]
     },
     "execution_count": 30,
     "metadata": {},
     "output_type": "execute_result"
    }
   ],
   "source": [
    "d3 = data[data['CAUSE'].isin(['Failure in Examination'])]\n",
    "d4=d3.drop(['STATE/UT','CAUSE'],axis=1)\n",
    "d3=d4.groupby(['Year']).sum()\n",
    "cor = cal_corr('Male','Female',d3)\n",
    "cor"
   ]
  },
  {
   "cell_type": "code",
   "execution_count": 31,
   "metadata": {},
   "outputs": [
    {
     "data": {
      "text/plain": [
       "0.8354994718333343"
      ]
     },
     "execution_count": 31,
     "metadata": {},
     "output_type": "execute_result"
    }
   ],
   "source": [
    "d3 = data[data['CAUSE'].isin(['Ideological Causes/Hero Worshipping'])]\n",
    "d4=d3.drop(['STATE/UT','CAUSE'],axis=1)\n",
    "d3=d4.groupby(['Year']).sum()\n",
    "cor = cal_corr('Male','Female',d3)\n",
    "cor"
   ]
  },
  {
   "cell_type": "code",
   "execution_count": 32,
   "metadata": {},
   "outputs": [
    {
     "data": {
      "text/plain": [
       "0.6740393658461439"
      ]
     },
     "execution_count": 32,
     "metadata": {},
     "output_type": "execute_result"
    }
   ],
   "source": [
    "d3 = data[data['CAUSE'].isin(['Illegitimate Pregnancy'])]\n",
    "d4=d3.drop(['STATE/UT','CAUSE'],axis=1)\n",
    "d3=d4.groupby(['Year']).sum()\n",
    "cor = cal_corr('Male','Female',d3)\n",
    "cor"
   ]
  },
  {
   "cell_type": "code",
   "execution_count": 33,
   "metadata": {},
   "outputs": [
    {
     "data": {
      "text/plain": [
       "0.9614758483953891"
      ]
     },
     "execution_count": 33,
     "metadata": {},
     "output_type": "execute_result"
    }
   ],
   "source": [
    "d3 = data[data['CAUSE'].isin(['Love Affairs'])]\n",
    "d4=d3.drop(['STATE/UT','CAUSE'],axis=1)\n",
    "d3=d4.groupby(['Year']).sum()\n",
    "cor = cal_corr('Male','Female',d3)\n",
    "cor"
   ]
  },
  {
   "cell_type": "code",
   "execution_count": 34,
   "metadata": {},
   "outputs": [
    {
     "data": {
      "text/plain": [
       "0.5943952142685229"
      ]
     },
     "execution_count": 34,
     "metadata": {},
     "output_type": "execute_result"
    }
   ],
   "source": [
    "d3 = data[data['CAUSE'].isin(['Physical Abuse (Rape,Incest Etc.)'])]\n",
    "d4=d3.drop(['STATE/UT','CAUSE'],axis=1)\n",
    "d3=d4.groupby(['Year']).sum()\n",
    "cor = cal_corr('Male','Female',d3)\n",
    "cor"
   ]
  },
  {
   "cell_type": "code",
   "execution_count": 35,
   "metadata": {},
   "outputs": [
    {
     "data": {
      "text/plain": [
       "0.6789714500952362"
      ]
     },
     "execution_count": 35,
     "metadata": {},
     "output_type": "execute_result"
    }
   ],
   "source": [
    "d3 = data[data['CAUSE'].isin(['Poverty'])]\n",
    "d4=d3.drop(['STATE/UT','CAUSE'],axis=1)\n",
    "d3=d4.groupby(['Year']).sum()\n",
    "cor =cal_corr('Male','Female',d3)\n",
    "cor"
   ]
  }
 ],
 "metadata": {
  "kernelspec": {
   "display_name": "Python 3",
   "language": "python",
   "name": "python3"
  },
  "language_info": {
   "codemirror_mode": {
    "name": "ipython",
    "version": 3
   },
   "file_extension": ".py",
   "mimetype": "text/x-python",
   "name": "python",
   "nbconvert_exporter": "python",
   "pygments_lexer": "ipython3",
   "version": "3.7.4"
  }
 },
 "nbformat": 4,
 "nbformat_minor": 2
}
