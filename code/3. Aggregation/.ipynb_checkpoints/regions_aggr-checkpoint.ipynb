{
 "cells": [
  {
   "cell_type": "code",
   "execution_count": 1,
   "metadata": {},
   "outputs": [],
   "source": [
    "import pandas as pd\n",
    "import numpy as np\n",
    "pd.plotting.register_matplotlib_converters()\n",
    "import matplotlib.pyplot as plt\n",
    "%matplotlib inline\n",
    "import seaborn as sns"
   ]
  },
  {
   "cell_type": "markdown",
   "metadata": {},
   "source": [
    "Reading data from \"data_cleaning.xlsx\" and storing in \"data\"."
   ]
  },
  {
   "cell_type": "code",
   "execution_count": 2,
   "metadata": {},
   "outputs": [],
   "source": [
    "data = pd.read_excel('~/DMFinalTerm_TeamID_05/data/data_cleaning.xlsx',index_col=0)"
   ]
  },
  {
   "cell_type": "markdown",
   "metadata": {},
   "source": [
    "Aggregating attribute values 'HARYANA','HIMACHAL PRADESH','JAMMU AND KASHMIR','PUNJAB','UTTAR PRADESH','RAJASTHAN','UTTARAKHAND','DELHI (UT)','CHANDIGARH' into 'NORTH INDIA'."
   ]
  },
  {
   "cell_type": "code",
   "execution_count": 3,
   "metadata": {},
   "outputs": [],
   "source": [
    "d = data[data['STATE/UT'].isin(['HARYANA','HIMACHAL PRADESH','JAMMU AND KASHMIR','PUNJAB','UTTAR PRADESH','RAJASTHAN','UTTARAKHAND','DELHI (UT)','CHANDIGARH'])]"
   ]
  },
  {
   "cell_type": "code",
   "execution_count": 4,
   "metadata": {},
   "outputs": [],
   "source": [
    "d1 = d.groupby(['CAUSE','Year']).sum().reset_index()\n",
    "d1.insert(2,'Region','NORTH INDIA')"
   ]
  },
  {
   "cell_type": "markdown",
   "metadata": {},
   "source": [
    "Aggregating attribute values 'GOA','GUJARAT','MAHARASHTRA','D & N HAVELI','DAMAN & DIU' into 'WEST INDIA'."
   ]
  },
  {
   "cell_type": "code",
   "execution_count": 5,
   "metadata": {},
   "outputs": [],
   "source": [
    "d = data[data['STATE/UT'].isin(['GOA','GUJARAT','MAHARASHTRA','D & N HAVELI','DAMAN & DIU'])]"
   ]
  },
  {
   "cell_type": "code",
   "execution_count": 6,
   "metadata": {},
   "outputs": [],
   "source": [
    "d2 = d.groupby(['CAUSE','Year']).sum().reset_index()\n",
    "d2.insert(2,'Region','WEST INDIA')"
   ]
  },
  {
   "cell_type": "markdown",
   "metadata": {},
   "source": [
    "Aggregating attribute values 'ANDHRA PRADESH','KARNATAKA','KERALA','TAMIL NADU','LAKSHADWEEP','PUDUCHERRY' into 'SOUTH INDIA'."
   ]
  },
  {
   "cell_type": "code",
   "execution_count": 7,
   "metadata": {},
   "outputs": [],
   "source": [
    "d = data[data['STATE/UT'].isin(['ANDHRA PRADESH','KARNATAKA','KERALA','TAMIL NADU','LAKSHADWEEP','PUDUCHERRY'])]"
   ]
  },
  {
   "cell_type": "code",
   "execution_count": 8,
   "metadata": {},
   "outputs": [],
   "source": [
    "d3 = d.groupby(['CAUSE','Year']).sum().reset_index()\n",
    "d3.insert(2,'Region','SOUTH INDIA')"
   ]
  },
  {
   "cell_type": "markdown",
   "metadata": {},
   "source": [
    "Aggregating attribute values 'BIHAR','JHARKHAND','ORISSA','WEST BENGAL','A & N ISLANDS' into 'EAST INDIA'."
   ]
  },
  {
   "cell_type": "code",
   "execution_count": 9,
   "metadata": {},
   "outputs": [],
   "source": [
    "d = data[data['STATE/UT'].isin(['BIHAR','JHARKHAND','ORISSA','WEST BENGAL','A & N ISLANDS'])]"
   ]
  },
  {
   "cell_type": "code",
   "execution_count": 10,
   "metadata": {},
   "outputs": [],
   "source": [
    "d4 = d.groupby(['CAUSE','Year']).sum().reset_index()\n",
    "d4.insert(2,'Region','EAST INDIA')"
   ]
  },
  {
   "cell_type": "markdown",
   "metadata": {},
   "source": [
    "Aggregating attribute values 'CHHATTISGARH','MADHYA PRADESH' into 'CENTRAL INDIA'."
   ]
  },
  {
   "cell_type": "code",
   "execution_count": 11,
   "metadata": {},
   "outputs": [],
   "source": [
    "d = data[data['STATE/UT'].isin(['CHHATTISGARH','MADHYA PRADESH'])]"
   ]
  },
  {
   "cell_type": "code",
   "execution_count": 12,
   "metadata": {},
   "outputs": [],
   "source": [
    "d5 = d.groupby(['CAUSE','Year']).sum().reset_index()\n",
    "d5.insert(2,'Region','CENTRAL INDIA')"
   ]
  },
  {
   "cell_type": "markdown",
   "metadata": {},
   "source": [
    "Aggregating attribute values 'ARUNACHAL PRADESH','ASSAM','MEGHALAYA','MIZORAM','MANIPUR','NAGALAND','SIKKIM','TRIPURA' into 'NORTH EAST INDIA'."
   ]
  },
  {
   "cell_type": "code",
   "execution_count": 13,
   "metadata": {},
   "outputs": [],
   "source": [
    "d = data[data['STATE/UT'].isin(['ARUNACHAL PRADESH','ASSAM','MEGHALAYA','MIZORAM','MANIPUR','NAGALAND','SIKKIM','TRIPURA'])]"
   ]
  },
  {
   "cell_type": "code",
   "execution_count": 14,
   "metadata": {},
   "outputs": [],
   "source": [
    "d6 = d.groupby(['CAUSE','Year']).sum().reset_index()\n",
    "d6.insert(2,'Region','NORTH EAST INDIA')"
   ]
  },
  {
   "cell_type": "markdown",
   "metadata": {},
   "source": [
    "Concatenating dataframes d1,d2,d3,d4,d5,d6 into f."
   ]
  },
  {
   "cell_type": "code",
   "execution_count": 15,
   "metadata": {},
   "outputs": [],
   "source": [
    "f = pd.concat([d1,d2,d3,d4,d5,d6],ignore_index=False)"
   ]
  },
  {
   "cell_type": "markdown",
   "metadata": {},
   "source": [
    "Sorting values of \"CAUSE\" and then \"Year\" in ascending order."
   ]
  },
  {
   "cell_type": "code",
   "execution_count": 16,
   "metadata": {},
   "outputs": [],
   "source": [
    "f.sort_values(by=['CAUSE','Year'],inplace=True)"
   ]
  },
  {
   "cell_type": "code",
   "execution_count": 17,
   "metadata": {},
   "outputs": [
    {
     "data": {
      "text/html": [
       "<div>\n",
       "<style scoped>\n",
       "    .dataframe tbody tr th:only-of-type {\n",
       "        vertical-align: middle;\n",
       "    }\n",
       "\n",
       "    .dataframe tbody tr th {\n",
       "        vertical-align: top;\n",
       "    }\n",
       "\n",
       "    .dataframe thead th {\n",
       "        text-align: right;\n",
       "    }\n",
       "</style>\n",
       "<table border=\"1\" class=\"dataframe\">\n",
       "  <thead>\n",
       "    <tr style=\"text-align: right;\">\n",
       "      <th></th>\n",
       "      <th>CAUSE</th>\n",
       "      <th>Year</th>\n",
       "      <th>Region</th>\n",
       "      <th>Male</th>\n",
       "      <th>Female</th>\n",
       "      <th>Total</th>\n",
       "    </tr>\n",
       "  </thead>\n",
       "  <tbody>\n",
       "    <tr>\n",
       "      <td>0</td>\n",
       "      <td>Bankruptcy or Sudden change in Economic Status</td>\n",
       "      <td>2001</td>\n",
       "      <td>NORTH INDIA</td>\n",
       "      <td>137</td>\n",
       "      <td>38</td>\n",
       "      <td>175.0</td>\n",
       "    </tr>\n",
       "    <tr>\n",
       "      <td>0</td>\n",
       "      <td>Bankruptcy or Sudden change in Economic Status</td>\n",
       "      <td>2001</td>\n",
       "      <td>WEST INDIA</td>\n",
       "      <td>383</td>\n",
       "      <td>40</td>\n",
       "      <td>423.0</td>\n",
       "    </tr>\n",
       "    <tr>\n",
       "      <td>0</td>\n",
       "      <td>Bankruptcy or Sudden change in Economic Status</td>\n",
       "      <td>2001</td>\n",
       "      <td>SOUTH INDIA</td>\n",
       "      <td>1655</td>\n",
       "      <td>324</td>\n",
       "      <td>1979.0</td>\n",
       "    </tr>\n",
       "    <tr>\n",
       "      <td>0</td>\n",
       "      <td>Bankruptcy or Sudden change in Economic Status</td>\n",
       "      <td>2001</td>\n",
       "      <td>EAST INDIA</td>\n",
       "      <td>98</td>\n",
       "      <td>45</td>\n",
       "      <td>143.0</td>\n",
       "    </tr>\n",
       "    <tr>\n",
       "      <td>0</td>\n",
       "      <td>Bankruptcy or Sudden change in Economic Status</td>\n",
       "      <td>2001</td>\n",
       "      <td>CENTRAL INDIA</td>\n",
       "      <td>132</td>\n",
       "      <td>40</td>\n",
       "      <td>172.0</td>\n",
       "    </tr>\n",
       "    <tr>\n",
       "      <td>...</td>\n",
       "      <td>...</td>\n",
       "      <td>...</td>\n",
       "      <td>...</td>\n",
       "      <td>...</td>\n",
       "      <td>...</td>\n",
       "      <td>...</td>\n",
       "    </tr>\n",
       "    <tr>\n",
       "      <td>467</td>\n",
       "      <td>Widowed/Widower</td>\n",
       "      <td>2012</td>\n",
       "      <td>WEST INDIA</td>\n",
       "      <td>422</td>\n",
       "      <td>355</td>\n",
       "      <td>777.0</td>\n",
       "    </tr>\n",
       "    <tr>\n",
       "      <td>467</td>\n",
       "      <td>Widowed/Widower</td>\n",
       "      <td>2012</td>\n",
       "      <td>SOUTH INDIA</td>\n",
       "      <td>1014</td>\n",
       "      <td>818</td>\n",
       "      <td>1832.0</td>\n",
       "    </tr>\n",
       "    <tr>\n",
       "      <td>467</td>\n",
       "      <td>Widowed/Widower</td>\n",
       "      <td>2012</td>\n",
       "      <td>EAST INDIA</td>\n",
       "      <td>294</td>\n",
       "      <td>485</td>\n",
       "      <td>779.0</td>\n",
       "    </tr>\n",
       "    <tr>\n",
       "      <td>467</td>\n",
       "      <td>Widowed/Widower</td>\n",
       "      <td>2012</td>\n",
       "      <td>CENTRAL INDIA</td>\n",
       "      <td>379</td>\n",
       "      <td>238</td>\n",
       "      <td>617.0</td>\n",
       "    </tr>\n",
       "    <tr>\n",
       "      <td>467</td>\n",
       "      <td>Widowed/Widower</td>\n",
       "      <td>2012</td>\n",
       "      <td>NORTH EAST INDIA</td>\n",
       "      <td>58</td>\n",
       "      <td>50</td>\n",
       "      <td>108.0</td>\n",
       "    </tr>\n",
       "  </tbody>\n",
       "</table>\n",
       "<p>2808 rows × 6 columns</p>\n",
       "</div>"
      ],
      "text/plain": [
       "                                              CAUSE  Year            Region  \\\n",
       "0    Bankruptcy or Sudden change in Economic Status  2001       NORTH INDIA   \n",
       "0    Bankruptcy or Sudden change in Economic Status  2001        WEST INDIA   \n",
       "0    Bankruptcy or Sudden change in Economic Status  2001       SOUTH INDIA   \n",
       "0    Bankruptcy or Sudden change in Economic Status  2001        EAST INDIA   \n",
       "0    Bankruptcy or Sudden change in Economic Status  2001     CENTRAL INDIA   \n",
       "..                                              ...   ...               ...   \n",
       "467                                 Widowed/Widower  2012        WEST INDIA   \n",
       "467                                 Widowed/Widower  2012       SOUTH INDIA   \n",
       "467                                 Widowed/Widower  2012        EAST INDIA   \n",
       "467                                 Widowed/Widower  2012     CENTRAL INDIA   \n",
       "467                                 Widowed/Widower  2012  NORTH EAST INDIA   \n",
       "\n",
       "     Male  Female   Total  \n",
       "0     137      38   175.0  \n",
       "0     383      40   423.0  \n",
       "0    1655     324  1979.0  \n",
       "0      98      45   143.0  \n",
       "0     132      40   172.0  \n",
       "..    ...     ...     ...  \n",
       "467   422     355   777.0  \n",
       "467  1014     818  1832.0  \n",
       "467   294     485   779.0  \n",
       "467   379     238   617.0  \n",
       "467    58      50   108.0  \n",
       "\n",
       "[2808 rows x 6 columns]"
      ]
     },
     "execution_count": 17,
     "metadata": {},
     "output_type": "execute_result"
    }
   ],
   "source": [
    "f"
   ]
  },
  {
   "cell_type": "code",
   "execution_count": 18,
   "metadata": {},
   "outputs": [],
   "source": [
    "f.to_excel('~/DMFinalTerm_TeamID_05/data/regions_combined.xlsx')"
   ]
  }
 ],
 "metadata": {
  "kernelspec": {
   "display_name": "Python 3",
   "language": "python",
   "name": "python3"
  },
  "language_info": {
   "codemirror_mode": {
    "name": "ipython",
    "version": 3
   },
   "file_extension": ".py",
   "mimetype": "text/x-python",
   "name": "python",
   "nbconvert_exporter": "python",
   "pygments_lexer": "ipython3",
   "version": "3.7.4"
  }
 },
 "nbformat": 4,
 "nbformat_minor": 2
}
